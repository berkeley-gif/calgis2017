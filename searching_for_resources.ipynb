{
 "cells": [
  {
   "cell_type": "markdown",
   "metadata": {},
   "source": [
    "[Back to Index](index.ipynb)"
   ]
  },
  {
   "cell_type": "markdown",
   "metadata": {},
   "source": [
    "# Searching for Resources on Cal-Adapt API"
   ]
  },
  {
   "cell_type": "markdown",
   "metadata": {},
   "source": [
    "Begin by importing the Requests python module"
   ]
  },
  {
   "cell_type": "code",
   "execution_count": null,
   "metadata": {
    "collapsed": true
   },
   "outputs": [],
   "source": [
    "import requests"
   ]
  },
  {
   "cell_type": "markdown",
   "metadata": {},
   "source": [
    "Now, let's try to get the Cal-Adapt API"
   ]
  },
  {
   "cell_type": "code",
   "execution_count": null,
   "metadata": {
    "collapsed": false
   },
   "outputs": [],
   "source": [
    "r = requests.get('http://api.cal-adapt.org/api/')"
   ]
  },
  {
   "cell_type": "markdown",
   "metadata": {},
   "source": [
    "Now, we have a Response object called r. We can get the list of resources in Cal-Adapt API from this response in JSON format. JSON (JavaScript Object Notation) is a lightweight format that is used for data interchange. It is based on a subset of JavaScript language [MDN](https://developer.mozilla.org/en-US/docs/Web/JavaScript/Reference/Global_Objects/JSON)"
   ]
  },
  {
   "cell_type": "code",
   "execution_count": null,
   "metadata": {
    "collapsed": false
   },
   "outputs": [],
   "source": [
    "r.json()"
   ]
  },
  {
   "cell_type": "markdown",
   "metadata": {},
   "source": [
    "We store climate data as GeoTIFF files on the server. Each geotiff file is represented by a Raster Store in the API. A Raster Series is a collection of Raster Stores. For this workshop we will focus on working with a Raster Series. Let's get a list of Raster Series on the API."
   ]
  },
  {
   "cell_type": "code",
   "execution_count": null,
   "metadata": {
    "collapsed": false
   },
   "outputs": [],
   "source": [
    "series = requests.get('http://api.cal-adapt.org/api/series/')\n",
    "\n",
    "# The series json object has many properties. Let's look at count, next and results\n",
    "series.json()"
   ]
  },
  {
   "cell_type": "markdown",
   "metadata": {},
   "source": [
    "Let's search for a resource. You can send data in the URL's query string. If you were constructing the URL by hand, this data would be given as key/value pairs in the URL after a question mark, e.g. http://api.cal-adapt.org/api/series/?pagesize=100."
   ]
  },
  {
   "cell_type": "code",
   "execution_count": null,
   "metadata": {
    "collapsed": false
   },
   "outputs": [],
   "source": [
    "# Query parameters dict\n",
    "params = {'name': 'yearly average maximum temperature', 'pagesize': 100}\n",
    "\n",
    "# Use params with the url.\n",
    "response = requests.get('http://api.cal-adapt.org/api/series/', params=params)\n",
    "\n",
    "# It is a good idea to check there were no problems with the request.\n",
    "if response.ok:\n",
    "    data = response.json()\n",
    "    # Get a list of raster series from results property of data object\n",
    "    results = data['results']\n",
    "    # Iterate through the list and print the url property of each object\n",
    "    for item in results:\n",
    "        print(item['url'])"
   ]
  },
  {
   "cell_type": "markdown",
   "metadata": {},
   "source": [
    "### Your turn\n",
    "\n",
    "1. Change the search string (`params['name']`) in the cell above to print a list of other resources. Try the following:\n",
    "    - `yearly average`\n",
    "    - `precipitation`\n",
    "    - `CNRM-CM5 rcp45`\n",
    "\n",
    "2. In the `results` loop in above cell print other properties of `item`. E.g.:\n",
    "    - `print(item)`\n",
    "    - `print(item['slug'])`\n",
    "    - `print('{slug} begins {begin} and ends on {end}'.format(**item))`\n",
    "    - `print(item[0])`"
   ]
  },
  {
   "cell_type": "code",
   "execution_count": null,
   "metadata": {
    "collapsed": true
   },
   "outputs": [],
   "source": []
  }
 ],
 "metadata": {
  "kernelspec": {
   "display_name": "Python 3",
   "language": "python",
   "name": "python3"
  },
  "language_info": {
   "codemirror_mode": {
    "name": "ipython",
    "version": 3
   },
   "file_extension": ".py",
   "mimetype": "text/x-python",
   "name": "python",
   "nbconvert_exporter": "python",
   "pygments_lexer": "ipython3",
   "version": "3.6.0"
  }
 },
 "nbformat": 4,
 "nbformat_minor": 2
}
