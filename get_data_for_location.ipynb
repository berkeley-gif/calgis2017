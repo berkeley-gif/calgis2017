{
 "cells": [
  {
   "cell_type": "markdown",
   "metadata": {},
   "source": [
    "[Back to Index](index.ipynb)"
   ]
  },
  {
   "cell_type": "markdown",
   "metadata": {},
   "source": [
    "# Get Data for a Location"
   ]
  },
  {
   "cell_type": "markdown",
   "metadata": {},
   "source": [
    "Begin by importing the required python modules."
   ]
  },
  {
   "cell_type": "code",
   "execution_count": null,
   "metadata": {
    "collapsed": true
   },
   "outputs": [],
   "source": [
    "import requests\n",
    "import pprint # useful for printing pretty json"
   ]
  },
  {
   "cell_type": "markdown",
   "metadata": {},
   "source": [
    "Now, let's get the Raster Series Instance of Annual Average Maximum Temperature for one model (CNRM-CM5) and one scenario (RCP 4.5) from the Cal-Adapt API. Let's look at the `rasters` property."
   ]
  },
  {
   "cell_type": "code",
   "execution_count": null,
   "metadata": {
    "collapsed": false,
    "scrolled": true
   },
   "outputs": [],
   "source": [
    "response = requests.get('http://api.cal-adapt.org/api/series/tasmax_year_CNRM-CM5_rcp45/')\n",
    "response.json()"
   ]
  },
  {
   "cell_type": "markdown",
   "metadata": {},
   "source": [
    "To get a list of all Raster Stores in a Raster Series Instance, append `rasters/` to the url."
   ]
  },
  {
   "cell_type": "code",
   "execution_count": null,
   "metadata": {
    "collapsed": false
   },
   "outputs": [],
   "source": [
    "response = requests.get('http://api.cal-adapt.org/api/series/tasmax_year_CNRM-CM5_rcp45/rasters/')\n",
    "response.json()"
   ]
  },
  {
   "cell_type": "markdown",
   "metadata": {},
   "source": [
    "There are a total of 95 Raster Stores in this Raster Series Instance. By default only 10 are returned. You can use the `pagesize` query parameter to get more records with one request."
   ]
  },
  {
   "cell_type": "code",
   "execution_count": null,
   "metadata": {
    "collapsed": false,
    "scrolled": true
   },
   "outputs": [],
   "source": [
    "response = requests.get('http://api.cal-adapt.org/api/series/tasmax_year_CNRM-CM5_rcp45/rasters/?pagesize=95')\n",
    "\n",
    "# It is a good idea to check there were no problems with the request.\n",
    "if response.status_code == requests.codes.ok:\n",
    "    data = response.json()\n",
    "    # Get a list of Raster Stores from results property of data object\n",
    "    results = data['results']\n",
    "    # Print the first item in list\n",
    "    pprint.pprint(results[0])\n",
    "    # Print a blank line\n",
    "    print()\n",
    "    # Iterate through the list and print the event property of each Raster Store\n",
    "    for item in results:\n",
    "        print(item['event'])"
   ]
  },
  {
   "cell_type": "markdown",
   "metadata": {},
   "source": [
    "### Your turn\n",
    "\n",
    "1. In the `results` loop in above cell print other properties of `item`. E.g.:\n",
    "    - `print(item['image'])`"
   ]
  },
  {
   "cell_type": "markdown",
   "metadata": {},
   "source": [
    "### Introducing the `g` parameter"
   ]
  },
  {
   "cell_type": "markdown",
   "metadata": {
    "collapsed": true
   },
   "source": [
    "By default, `image` field in a Raster Store Instance points to the entire geotiff file, e.g. `'http://api.cal-adapt.org/media/img/tasmax_year_CNRM-CM5_rcp45_r1i1p1_2006.LOCA_2016-04-02.16th.CA_NV.tif`. To get the data for a specific location we need to give the API a geometry object representing that location. The API can read geometry in several different formats inclduing GeoJSON, WKT. For this exercise we will use GeoJSON.\n",
    "\n",
    "You also need to tell the API what format you want your data in. You can specify format by adding a `format` parameter to the query, e.g. `http://api.cal-adapt.org/api/series/tasmax_year_CNRM-CM5_rcp45/rasters/?pagesize=95&format=json`. Another way to do it is by sending a [HTTP header](https://developer.mozilla.org/en-US/docs/Web/HTTP/Headers) with the request, which is what we do below."
   ]
  },
  {
   "cell_type": "code",
   "execution_count": null,
   "metadata": {
    "collapsed": false
   },
   "outputs": [],
   "source": [
    "# Query parameters dict\n",
    "params = {\n",
    "    'pagesize': 100,\n",
    "    'g': '{\"type\":\"Point\",\"coordinates\":[-121.4687,38.5938]}'\n",
    "}\n",
    "\n",
    "# Convert query parameters dict to string\n",
    "params_str = \"&\".join(\"%s=%s\" % (k,v) for k,v in params.items())\n",
    "\n",
    "# Structure request url\n",
    "url = 'http://api.cal-adapt.org/api/series/tasmax_year_CNRM-CM5_rcp45/rasters/?' + params_str\n",
    "\n",
    "# HTTP header\n",
    "headers = {'ContentType': 'json'}\n",
    "\n",
    "# Make request\n",
    "response = requests.get(url, headers=headers)\n",
    "\n",
    "# It is a good idea to check there were no problems with the request.\n",
    "if response.status_code == requests.codes.ok:\n",
    "    data = response.json()\n",
    "    # Get a list of Raster Stores\n",
    "    results = data['results']\n",
    "    print('First Raster Store object:')\n",
    "    pprint.pprint(results[0])\n",
    "    print()\n",
    "    print('Timeseries for the grid cell at this point:')\n",
    "    # Iterate through the list and print the event and image property of each Raster Store\n",
    "    for item in results:\n",
    "        print('year:', item['event'], 'value:', item['image'], item['units'])"
   ]
  },
  {
   "cell_type": "markdown",
   "metadata": {
    "collapsed": true
   },
   "source": [
    "### Your turn\n",
    "\n",
    "1. Try another location by changing the coordinate pair in `params.g` in the above cell. The spatial extent available on Cal-Adapt covers entire state of California and Nevada and parts of Oregon, Mexico and Arizona.\n",
    "\n",
    "\n",
    "### Get data for an area\n",
    "\n",
    "You can also pass in polygon geometry. A polygon can span multiple grid cells (the grid is ~ 6km x 6km). With polygon geometry you can also provide a `stat` parameter which will aggregate data from all grid cells intersected by the polygon. The `stat` parameter can take the value `mean`, `max`, `min`.  "
   ]
  },
  {
   "cell_type": "code",
   "execution_count": null,
   "metadata": {
    "collapsed": false,
    "scrolled": true
   },
   "outputs": [],
   "source": [
    "g = '{\"type\":\"Polygon\",\"coordinates\":[[[-122.30598,37.76881],[-122.22942,37.76881],[-122.229423,37.83337],[-122.305984,37.83337],[-122.305984,37.76881]]]}'\n",
    "params = {\n",
    "    'pagesize': 100,\n",
    "    'g': g,\n",
    "    'stat': 'mean'\n",
    "}\n",
    "params_str = \"&\".join(\"%s=%s\" % (k,v) for k,v in params.items())\n",
    "url = 'http://api.cal-adapt.org/api/series/tasmax_year_CNRM-CM5_rcp45/rasters/?' + params_str\n",
    "\n",
    "# HTTP header\n",
    "headers = {'ContentType': 'json'}\n",
    "\n",
    "# Make request\n",
    "response = requests.get(url, headers=headers)\n",
    "\n",
    "# It is a good idea to check there were no problems with the request.\n",
    "if response.status_code == requests.codes.ok:\n",
    "    data = response.json()\n",
    "    # Get a list of Raster Stores\n",
    "    results = data['results']\n",
    "    # Iterate through the list and print the event and image property of each Raster Store\n",
    "    for item in results:\n",
    "        print('year:', item['event'], 'value:', item['image'], item['units'])"
   ]
  },
  {
   "cell_type": "markdown",
   "metadata": {},
   "source": [
    "### Use vector data from Cal-Adapt API\n",
    "\n",
    "The API contains several boundary datasets. You can use polygon geometry from these vector resources instead of providing your own. For an example see notebook - [get_polygon_geometry_from_api](get_polygon_geometry_from_api.ipynb)"
   ]
  },
  {
   "cell_type": "markdown",
   "metadata": {},
   "source": [
    "### Get data for a time slice\n",
    "\n",
    "You can get data for a time slice instead of the full timeseries by substituting `rasters/` with a `begin-date/end-date/`. "
   ]
  },
  {
   "cell_type": "code",
   "execution_count": null,
   "metadata": {
    "collapsed": false,
    "scrolled": true
   },
   "outputs": [],
   "source": [
    "g = '{\"type\":\"Polygon\",\"coordinates\":[[[-122.30598,37.76881],[-122.22942,37.76881],[-122.229423,37.83337],[-122.305984,37.83337],[-122.305984,37.76881]]]}'\n",
    "params = {\n",
    "    'pagesize': 100,\n",
    "    'g': g,\n",
    "    'stat': 'mean'\n",
    "}\n",
    "params_str = \"&\".join(\"%s=%s\" % (k,v) for k,v in params.items())\n",
    "url = 'http://api.cal-adapt.org/api/series/tasmax_year_CNRM-CM5_rcp45/2070-01-01/2099-01-01/?' + params_str\n",
    "\n",
    "# Add HTTP header\n",
    "headers = {'ContentType': 'json'}\n",
    "\n",
    "# Make request\n",
    "response = requests.get(url, headers=headers)\n",
    "\n",
    "# It is a good idea to check there were no problems with the request.\n",
    "if response.status_code == requests.codes.ok:\n",
    "    data = response.json()\n",
    "    # Get a list of Raster Stores from results property of data object\n",
    "    results = data['results']\n",
    "    # Iterate through the list and print the event and image property of each Raster Store\n",
    "    for item in results:\n",
    "        print('year:', item['event'], 'value:', item['image'], item['units'])"
   ]
  },
  {
   "cell_type": "code",
   "execution_count": null,
   "metadata": {
    "collapsed": true
   },
   "outputs": [],
   "source": []
  }
 ],
 "metadata": {
  "kernelspec": {
   "display_name": "Python 3",
   "language": "python",
   "name": "python3"
  },
  "language_info": {
   "codemirror_mode": {
    "name": "ipython",
    "version": 3
   },
   "file_extension": ".py",
   "mimetype": "text/x-python",
   "name": "python",
   "nbconvert_exporter": "python",
   "pygments_lexer": "ipython3",
   "version": "3.6.0"
  }
 },
 "nbformat": 4,
 "nbformat_minor": 2
}
