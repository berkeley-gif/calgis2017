{
 "cells": [
  {
   "cell_type": "markdown",
   "metadata": {},
   "source": [
    "# Cal-Adapt API Workshop"
   ]
  },
  {
   "cell_type": "markdown",
   "metadata": {
    "collapsed": true
   },
   "source": [
    "CalGIS|LocationCon 2017.\n",
    "\n",
    "### Quick guides\n",
    "- [Jupyter Notebook](http://nbviewer.jupyter.org/github/jupyter/notebook/blob/master/docs/source/examples/Notebook/Notebook%20Basics.ipynb)\n",
    "- [Python](http://nbviewer.jupyter.org/github/rajathkumarmp/Python-Lectures/tree/master/)\n",
    "- [Pandas](http://nbviewer.jupyter.org/urls/bitbucket.org/hrojas/learn-pandas/raw/master/lessons/01%20-%20Lesson.ipynb)\n",
    "\n",
    "### Links\n",
    "- [Cal-Adapt API Documentation](https://berkeley-gif.github.io/caladapt-docs/index.html)\n",
    "- [New Cal-Adapt website](http://beta.cal-adapt.org)\n",
    "\n",
    "### Presentation\n",
    "- Add link\n",
    "\n",
    "### Exercises\n",
    "- [Searching for resources on Cal-Adapt API](searching_for_resources.ipynb)\n",
    "- [Get data for a location](get_data_for_location.ipynb)\n",
    "- [A quick overview of Pandas](pandas_overview.ipynb)\n",
    "- [Generate summary statistics using Pandas](summary_stats_with_pandas.ipynb)\n",
    "- Create charts from the summary statistics\n",
    "- Format and export data to different formats"
   ]
  },
  {
   "cell_type": "markdown",
   "metadata": {},
   "source": [
    "### Resources\n",
    "- [Jupyter notebook gallery](http://nb.bianp.net/sort/views/)\n",
    "- [A gallery of interesting Jupyter Notebooks](https://github.com/jupyter/jupyter/wiki/A-gallery-of-interesting-Jupyter-Notebooks)\n",
    "- [Top 8 resources for learning data analysis with pandas](http://www.dataschool.io/best-python-pandas-resources/)"
   ]
  }
 ],
 "metadata": {
  "kernelspec": {
   "display_name": "Python 3",
   "language": "python",
   "name": "python3"
  },
  "language_info": {
   "codemirror_mode": {
    "name": "ipython",
    "version": 3
   },
   "file_extension": ".py",
   "mimetype": "text/x-python",
   "name": "python",
   "nbconvert_exporter": "python",
   "pygments_lexer": "ipython3",
   "version": "3.6.0"
  }
 },
 "nbformat": 4,
 "nbformat_minor": 2
}
