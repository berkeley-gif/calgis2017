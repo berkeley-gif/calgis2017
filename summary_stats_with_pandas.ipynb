{
 "cells": [
  {
   "cell_type": "markdown",
   "metadata": {},
   "source": [
    "[Back to Index](index.ipynb)"
   ]
  },
  {
   "cell_type": "markdown",
   "metadata": {},
   "source": [
    "## Generate Summary Statistics for Sacramento County"
   ]
  },
  {
   "cell_type": "markdown",
   "metadata": {},
   "source": [
    "Begin by importing all python modules we will need. For this exercise we will use Pandas."
   ]
  },
  {
   "cell_type": "code",
   "execution_count": 30,
   "metadata": {
    "collapsed": false
   },
   "outputs": [],
   "source": [
    "import requests\n",
    "import pandas as pd\n",
    "from datetime import datetime\n",
    "import itertools\n",
    "import calendar"
   ]
  },
  {
   "cell_type": "markdown",
   "metadata": {},
   "source": [
    "### 1. Create a Pandas DataFrame\n",
    "\n",
    "Now, let's create a new Pandas DataFrame from a timeseries. Let's get the tiemseries for Annual Average Maximum Temperature for one model (CNRM-CM5) and one scenario (RCP 4.5) for Alameda County.\n",
    "\n",
    "A DataFrame is a 2D data structure, kind of like an Excel Spreadsheet tab."
   ]
  },
  {
   "cell_type": "code",
   "execution_count": 74,
   "metadata": {
    "collapsed": false,
    "scrolled": true
   },
   "outputs": [],
   "source": [
    "# Create an empty dataframe to hold data from 4 models\n",
    "index = pd.date_range(datetime(2006, 1, 1), periods=94, freq='AS')\n",
    "projections_df = pd.DataFrame(index=index)\n",
    "\n",
    "# Make a combined list of GCMs, scenarios, climate variables for looping\n",
    "climvar = ['tasmax', 'tasmin', 'pr']\n",
    "period = ['year']\n",
    "models = ['CanESM2', 'CNRM-CM5', 'HadGEM2-ES', 'MIROC5']\n",
    "scenarios = ['rcp45', 'rcp85']\n",
    "zipped = itertools.product(climvar, period, models, scenarios)\n",
    "\n",
    "# Request header\n",
    "headers = {'ContentType': 'json'}\n",
    "\n",
    "def get_projections():\n",
    "    for item in zipped:\n",
    "        \n",
    "        slug = '_'.join(item)\n",
    "        url = 'http://api.cal-adapt.org/api/series/' + slug + '/rasters/?pagesize=94&stat=mean&ref=/api/counties/34/'\n",
    "        response = requests.get(url, headers=headers)\n",
    "\n",
    "        # Get data\n",
    "        if response.status_code == requests.codes.ok:\n",
    "            print('Processing:', slug)\n",
    "            data = response.json()\n",
    "            # Create temp dataframe\n",
    "            df = pd.DataFrame(data['results'])\n",
    "            # Change format of `event` field to datetime\n",
    "            df['event'] = pd.to_datetime(df['event'], format='%Y-%m-%d')\n",
    "            # Set event field as index\n",
    "            df = df.set_index(['event'])\n",
    "            # The data from API should be sorted, but sort anyway\n",
    "            df = df.sort_index()\n",
    "            series = df.image\n",
    "            column_name = slug.replace(\"-\", \"\").lower()\n",
    "            projections_df[column_name] = series.values\n",
    "        else:\n",
    "            print('Failed:', slug)"
   ]
  },
  {
   "cell_type": "markdown",
   "metadata": {},
   "source": [
    "### 2. Explore the data in a DataFrame\n",
    "\n",
    "Uncomment each one and examine the output"
   ]
  },
  {
   "cell_type": "code",
   "execution_count": 75,
   "metadata": {
    "collapsed": false
   },
   "outputs": [
    {
     "name": "stdout",
     "output_type": "stream",
     "text": [
      "Processing: tasmax_year_CanESM2_rcp45\n",
      "Processing: tasmax_year_CanESM2_rcp85\n",
      "Processing: tasmax_year_CNRM-CM5_rcp45\n",
      "Processing: tasmax_year_CNRM-CM5_rcp85\n",
      "Processing: tasmax_year_HadGEM2-ES_rcp45\n",
      "Processing: tasmax_year_HadGEM2-ES_rcp85\n",
      "Processing: tasmax_year_MIROC5_rcp45\n",
      "Processing: tasmax_year_MIROC5_rcp85\n",
      "Processing: tasmin_year_CanESM2_rcp45\n",
      "Processing: tasmin_year_CanESM2_rcp85\n",
      "Processing: tasmin_year_CNRM-CM5_rcp45\n",
      "Processing: tasmin_year_CNRM-CM5_rcp85\n",
      "Processing: tasmin_year_HadGEM2-ES_rcp45\n",
      "Processing: tasmin_year_HadGEM2-ES_rcp85\n",
      "Processing: tasmin_year_MIROC5_rcp45\n",
      "Processing: tasmin_year_MIROC5_rcp85\n",
      "Processing: pr_year_CanESM2_rcp45\n",
      "Processing: pr_year_CanESM2_rcp85\n",
      "Processing: pr_year_CNRM-CM5_rcp45\n",
      "Processing: pr_year_CNRM-CM5_rcp85\n",
      "Processing: pr_year_HadGEM2-ES_rcp45\n",
      "Processing: pr_year_HadGEM2-ES_rcp85\n",
      "Processing: pr_year_MIROC5_rcp45\n",
      "Processing: pr_year_MIROC5_rcp85\n"
     ]
    }
   ],
   "source": [
    "get_projections()"
   ]
  },
  {
   "cell_type": "code",
   "execution_count": 205,
   "metadata": {
    "collapsed": false
   },
   "outputs": [],
   "source": [
    "import calendar\n",
    "\n",
    "# Create an empty dataframe to hold data from 4 models\n",
    "index = pd.date_range(datetime(1950, 1, 1), periods=64, freq='AS')\n",
    "observed_df = pd.DataFrame(index=index)\n",
    "\n",
    "# Make a combined list of GCMs, scenarios, climate variables for looping\n",
    "climvar = ['tasmax', 'tasmin', 'pr']\n",
    "period = ['year']\n",
    "zipped = itertools.product(climvar, period, ['livneh'])\n",
    "\n",
    "# Request header\n",
    "headers = {'ContentType': 'json'}\n",
    "\n",
    "def celsius_to_F(val):\n",
    "    return val * 9/5 + 32 \n",
    "\n",
    "def mmday_to_inchyear(val, leap):\n",
    "    if leap:\n",
    "        return val * 0.0393701 * 366\n",
    "    else:\n",
    "        return val * 0.0393701 * 365\n",
    "\n",
    "def get_observed():\n",
    "    for item in zipped:\n",
    "        \n",
    "        slug = '_'.join(item)\n",
    "        url = 'http://api.cal-adapt.org/api/series/' + slug + '/rasters/?pagesize=64&stat=mean&ref=/api/counties/34/'\n",
    "        response = requests.get(url, headers=headers)\n",
    "\n",
    "        # Get data\n",
    "        if response.status_code == requests.codes.ok:\n",
    "            print('Processing:', slug)\n",
    "            data = response.json()\n",
    "            # Create temp dataframe\n",
    "            df = pd.DataFrame(data['results'])\n",
    "            # Change format of `event` field to datetime\n",
    "            df.event = pd.to_datetime(df.event, format='%Y-%m-%d')\n",
    "            # The data from API should be sorted, but sort anyway\n",
    "            df = df.sort_values('event')     \n",
    "            # Convert units\n",
    "            if 'tas' in slug:\n",
    "                df.image = df.image.apply(lambda x: celsius_to_F(x))\n",
    "            else:\n",
    "                for i in range(len(df)):\n",
    "                    year = df.iloc[i]['event'].year\n",
    "                    if calendar.isleap(year):\n",
    "                        df.iloc[i]['image'] = mmday_to_inchyear(df.iloc[i]['image'], True)\n",
    "                    else:\n",
    "                        df.iloc[i]['image'] = mmday_to_inchyear(df.iloc[i]['image'], False)\n",
    "\n",
    "            series = df.image\n",
    "            column_name = slug.replace(\"-\", \"\").lower()\n",
    "            observed_df[column_name] = series.values\n",
    "        else:\n",
    "            print('Failed:', slug)"
   ]
  },
  {
   "cell_type": "code",
   "execution_count": 206,
   "metadata": {
    "collapsed": false,
    "scrolled": true
   },
   "outputs": [
    {
     "name": "stdout",
     "output_type": "stream",
     "text": [
      "Processing: tasmax_year_livneh\n",
      "Processing: tasmin_year_livneh\n",
      "Processing: pr_year_livneh\n"
     ]
    },
    {
     "name": "stderr",
     "output_type": "stream",
     "text": [
      "C:\\Users\\Shruti\\Anaconda3\\lib\\site-packages\\ipykernel\\__main__.py:50: SettingWithCopyWarning: \n",
      "A value is trying to be set on a copy of a slice from a DataFrame\n",
      "\n",
      "See the caveats in the documentation: http://pandas.pydata.org/pandas-docs/stable/indexing.html#indexing-view-versus-copy\n",
      "C:\\Users\\Shruti\\Anaconda3\\lib\\site-packages\\ipykernel\\__main__.py:48: SettingWithCopyWarning: \n",
      "A value is trying to be set on a copy of a slice from a DataFrame\n",
      "\n",
      "See the caveats in the documentation: http://pandas.pydata.org/pandas-docs/stable/indexing.html#indexing-view-versus-copy\n"
     ]
    }
   ],
   "source": [
    "get_observed()"
   ]
  },
  {
   "cell_type": "code",
   "execution_count": 184,
   "metadata": {
    "collapsed": false
   },
   "outputs": [
    {
     "data": {
      "text/html": [
       "<div>\n",
       "<table border=\"1\" class=\"dataframe\">\n",
       "  <thead>\n",
       "    <tr style=\"text-align: right;\">\n",
       "      <th></th>\n",
       "      <th>tasmax_year_livneh</th>\n",
       "      <th>tasmin_year_livneh</th>\n",
       "      <th>pr_year_livneh</th>\n",
       "    </tr>\n",
       "  </thead>\n",
       "  <tbody>\n",
       "    <tr>\n",
       "      <th>1950-01-01</th>\n",
       "      <td>74.893606</td>\n",
       "      <td>47.813571</td>\n",
       "      <td>24.104610</td>\n",
       "    </tr>\n",
       "    <tr>\n",
       "      <th>1951-01-01</th>\n",
       "      <td>74.096737</td>\n",
       "      <td>46.416690</td>\n",
       "      <td>18.104470</td>\n",
       "    </tr>\n",
       "    <tr>\n",
       "      <th>1952-01-01</th>\n",
       "      <td>73.463145</td>\n",
       "      <td>46.995797</td>\n",
       "      <td>24.248145</td>\n",
       "    </tr>\n",
       "    <tr>\n",
       "      <th>1953-01-01</th>\n",
       "      <td>73.866604</td>\n",
       "      <td>46.923747</td>\n",
       "      <td>11.570093</td>\n",
       "    </tr>\n",
       "    <tr>\n",
       "      <th>1954-01-01</th>\n",
       "      <td>72.737019</td>\n",
       "      <td>46.808256</td>\n",
       "      <td>19.519974</td>\n",
       "    </tr>\n",
       "  </tbody>\n",
       "</table>\n",
       "</div>"
      ],
      "text/plain": [
       "            tasmax_year_livneh  tasmin_year_livneh  pr_year_livneh\n",
       "1950-01-01           74.893606           47.813571       24.104610\n",
       "1951-01-01           74.096737           46.416690       18.104470\n",
       "1952-01-01           73.463145           46.995797       24.248145\n",
       "1953-01-01           73.866604           46.923747       11.570093\n",
       "1954-01-01           72.737019           46.808256       19.519974"
      ]
     },
     "execution_count": 184,
     "metadata": {},
     "output_type": "execute_result"
    }
   ],
   "source": [
    "observed_df.head()"
   ]
  },
  {
   "cell_type": "code",
   "execution_count": 96,
   "metadata": {
    "collapsed": false
   },
   "outputs": [
    {
     "data": {
      "text/plain": [
       "62.6"
      ]
     },
     "execution_count": 96,
     "metadata": {},
     "output_type": "execute_result"
    }
   ],
   "source": [
    "def kelvin_to_F(val):\n",
    "    return  (val - 273.15) * 9/5 + 32\n",
    "\n",
    "\n",
    "\n",
    "def kgm2s_to_inchyear(val, leap):\n",
    "    if (leap):\n",
    "        return (val * 86400) * 0.0393701 * 366\n",
    "    else:\n",
    "        return (val * 86400) * 0.0393701 * 365\n",
    "\n"
   ]
  },
  {
   "cell_type": "markdown",
   "metadata": {},
   "source": [
    "You can also create custom functions. The `image` values in our dataframe are in Kelvin and we want to change them to degrees Fahrenheit. Let's create a function that does this conversion and apply to each row in the `image` column using `.apply()`. An intro to [lambda](http://www.diveintopython.net/power_of_introspection/lambda_functions.html) functions in Python."
   ]
  },
  {
   "cell_type": "code",
   "execution_count": null,
   "metadata": {
    "collapsed": false
   },
   "outputs": [],
   "source": [
    "df.image = df.image.apply(lambda K: (K - 273.15) * 9 / 5 + 32)\n",
    "df.image.head()"
   ]
  },
  {
   "cell_type": "markdown",
   "metadata": {},
   "source": [
    "### 4. Indexing\n",
    "\n",
    "Each row in a DataFrame has a unique identifier called the `index`. By default Pandas autogenerates an integer index for each row. But it can be useful to idenitfy each row by other indices. \n",
    "\n",
    "In our DateFrame each row represents max. temp for a year. The year (`event` field) is a unique identifier. We can tell the DataFrame to use the `event` field as the  index field. This creates a timeseries and pandas provides a lot of [functionality](https://tomaugspurger.github.io/modern-7-timeseries.html) for working with timeseries data."
   ]
  },
  {
   "cell_type": "code",
   "execution_count": null,
   "metadata": {
    "collapsed": false,
    "scrolled": true
   },
   "outputs": [],
   "source": [
    "# Change format of `event` field to datetime\n",
    "df['event'] = pd.to_datetime(df['event'], format='%Y-%m-%d')\n",
    "# Set event field as index\n",
    "df = df.set_index(['event'])"
   ]
  },
  {
   "cell_type": "code",
   "execution_count": null,
   "metadata": {
    "collapsed": false,
    "scrolled": true
   },
   "outputs": [],
   "source": [
    "df.tail()"
   ]
  },
  {
   "cell_type": "markdown",
   "metadata": {},
   "source": [
    "### 5. Filtering"
   ]
  },
  {
   "cell_type": "code",
   "execution_count": null,
   "metadata": {
    "collapsed": false,
    "scrolled": true
   },
   "outputs": [],
   "source": [
    "# Filter by value\n",
    "hi_temps = df[df.image >= 80]\n",
    "hi_temps.head()\n",
    "\n",
    "# Filter by time. Uncomment the following lines and run the cell again\n",
    "#filtered_df = df['20200101':'20300101']\n",
    "#filtered_df"
   ]
  },
  {
   "cell_type": "markdown",
   "metadata": {},
   "source": [
    "### 6. Resampling\n",
    "\n",
    "Resampling is similar to a groupby: you split the time series into groups (10 year buckets below), apply a function to each group (mean), and combine the result (one row per group). This creates another data structure commonly used in Pandas called `Series` - a one-dimensional labeled array capable of holding any data type."
   ]
  },
  {
   "cell_type": "code",
   "execution_count": null,
   "metadata": {
    "collapsed": false
   },
   "outputs": [],
   "source": [
    "# Only resample rows where year is between 2010 and 2099.\n",
    "decadal_avg = df['20200101':'20990101'].image.resample(\"10AS\").mean()\n",
    "print(type(decadal_avg))\n",
    "decadal_avg"
   ]
  },
  {
   "cell_type": "code",
   "execution_count": null,
   "metadata": {
    "collapsed": false
   },
   "outputs": [],
   "source": [
    "decadal_stats = df['20200101':'20990101'].image.resample(\"10AS\").agg(['mean', 'max', 'min', 'std'])\n",
    "print(type(decadal_stats))\n",
    "decadal_stats"
   ]
  }
 ],
 "metadata": {
  "kernelspec": {
   "display_name": "Python 3",
   "language": "python",
   "name": "python3"
  },
  "language_info": {
   "codemirror_mode": {
    "name": "ipython",
    "version": 3
   },
   "file_extension": ".py",
   "mimetype": "text/x-python",
   "name": "python",
   "nbconvert_exporter": "python",
   "pygments_lexer": "ipython3",
   "version": "3.6.0"
  }
 },
 "nbformat": 4,
 "nbformat_minor": 2
}
