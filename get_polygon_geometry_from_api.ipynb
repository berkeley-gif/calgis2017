{
 "cells": [
  {
   "cell_type": "markdown",
   "metadata": {
    "deletable": true,
    "editable": true
   },
   "source": [
    "# Using Vector Geometry in Cal-Adapt API"
   ]
  },
  {
   "cell_type": "code",
   "execution_count": null,
   "metadata": {
    "collapsed": false,
    "deletable": true,
    "editable": true
   },
   "outputs": [],
   "source": [
    "import requests \n",
    "import pprint"
   ]
  },
  {
   "cell_type": "markdown",
   "metadata": {},
   "source": [
    "For getting climate data for an area, you can use the `g` query parameter to provide polygon geometry. Another way to provide geometry is to use polygons from the boundary datasets stored in Cal-Adapt API using the `ref` parameter. For a list of boundary datasets available through Cal-Adapt refer to the [documentation](https://berkeley-gif.github.io/caladapt-docs/data-catalog.html#vector-data).\n",
    "\n",
    "In the cell below we are querying the `counties` resource to get a reference to the county polygon intersected by a point."
   ]
  },
  {
   "cell_type": "code",
   "execution_count": null,
   "metadata": {
    "collapsed": false
   },
   "outputs": [],
   "source": [
    "# Name of vector resource in API.\n",
    "resource = 'counties'\n",
    "url = 'http://api.cal-adapt.org/api/%s/' % resource\n",
    "# HTTP header\n",
    "headers = {'ContentType': 'json'}\n",
    "\n",
    "# Point location in geojson format\n",
    "lat = 38.5938\n",
    "lng = -121.4687\n",
    "point = '{\"type\":\"Point\",\"coordinates\":[%s,%s]}' % (lng, lat)\n",
    "\n",
    "# Params\n",
    "params = {'intersects': point, 'srs': 4326, 'simplify': .0001, 'precision': 4}\n",
    "\n",
    "# Get county geometry\n",
    "response = requests.get(url, params=params, headers=headers)\n",
    "print(response.url)\n",
    "print()\n",
    "if response.ok:\n",
    "    data = response.json()\n",
    "    pprint.pprint(data)"
   ]
  },
  {
   "cell_type": "markdown",
   "metadata": {},
   "source": [
    "Format a Uniform Resource Identifier (URI) for the polygon"
   ]
  },
  {
   "cell_type": "code",
   "execution_count": null,
   "metadata": {
    "collapsed": false
   },
   "outputs": [],
   "source": [
    "features = data['features']\n",
    "polygon = features[0]\n",
    "polygon_uri = '/api/%s/%s/' % (resource, polygon['id'])\n",
    "print ('Uniform Resource Identifier for county:', polygon_uri)"
   ]
  },
  {
   "cell_type": "markdown",
   "metadata": {},
   "source": [
    "Get climate data for polygon"
   ]
  },
  {
   "cell_type": "code",
   "execution_count": null,
   "metadata": {
    "collapsed": false,
    "deletable": true,
    "editable": true,
    "scrolled": true
   },
   "outputs": [],
   "source": [
    "params = {\n",
    "    'pagesize': 100,\n",
    "    'ref': polygon_uri,\n",
    "    'stat': 'mean'\n",
    "}\n",
    "url = 'http://api.cal-adapt.org/api/series/tasmax_year_CNRM-CM5_rcp45/rasters/'\n",
    "\n",
    "# Make request\n",
    "response = requests.get(url, params=params, headers=headers)\n",
    "\n",
    "# It is a good idea to check there were no problems with the request.\n",
    "if response.ok:\n",
    "    data = response.json()\n",
    "    # Get a list of Raster Stores from results property of data object\n",
    "    results = data['results']\n",
    "    print('Tiemseries for the this polygon:')\n",
    "    # Iterate through the list and print the event and image property of each Raster Store\n",
    "    for item in results:\n",
    "        print('year:', item['event'], 'value:', item['image'], item['units'])"
   ]
  },
  {
   "cell_type": "markdown",
   "metadata": {},
   "source": [
    "### Your turn\n",
    "\n",
    "1. Get climate data for a different area. Change the `resource` type and/or change coordinates for `point` location"
   ]
  }
 ],
 "metadata": {
  "kernelspec": {
   "display_name": "Python 3",
   "language": "python",
   "name": "python3"
  },
  "language_info": {
   "codemirror_mode": {
    "name": "ipython",
    "version": 3
   },
   "file_extension": ".py",
   "mimetype": "text/x-python",
   "name": "python",
   "nbconvert_exporter": "python",
   "pygments_lexer": "ipython3",
   "version": "3.6.0"
  }
 },
 "nbformat": 4,
 "nbformat_minor": 2
}
